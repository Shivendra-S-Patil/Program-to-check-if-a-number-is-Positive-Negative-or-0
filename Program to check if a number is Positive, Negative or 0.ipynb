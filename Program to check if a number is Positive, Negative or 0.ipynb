{
 "cells": [
  {
   "cell_type": "code",
   "execution_count": 4,
   "id": "c0ac7d46",
   "metadata": {},
   "outputs": [
    {
     "name": "stdout",
     "output_type": "stream",
     "text": [
      "Enter the Number-7\n",
      "It is Negative Number\n"
     ]
    }
   ],
   "source": [
    "num = float(input(\"Enter the Number\")) #The float(...) function then converts the input string to a floating-point number and assigns it to the variable num.\n",
    "\n",
    "if num > 0: # Statement that checks whether the value of num is greater than 0.\n",
    "    print(\"It is Positive Number\") # This line executes and prints the message \"It is Positive Number\".\n",
    "elif num == 0: # This line checks whether the value of num is equal to 0.\n",
    "    print(\"It is Zero\") # This line executes and prints the message \"It is Zero\".\n",
    "else: #If both the if and elif conditions are false, this line indicates that the number must be negative.\n",
    "    print(\"It is Negative Number\") # This line executes and prints the message \"It is Negative Number\"."
   ]
  },
  {
   "cell_type": "code",
   "execution_count": null,
   "id": "5e649118",
   "metadata": {},
   "outputs": [],
   "source": []
  }
 ],
 "metadata": {
  "kernelspec": {
   "display_name": "Python 3 (ipykernel)",
   "language": "python",
   "name": "python3"
  },
  "language_info": {
   "codemirror_mode": {
    "name": "ipython",
    "version": 3
   },
   "file_extension": ".py",
   "mimetype": "text/x-python",
   "name": "python",
   "nbconvert_exporter": "python",
   "pygments_lexer": "ipython3",
   "version": "3.9.13"
  }
 },
 "nbformat": 4,
 "nbformat_minor": 5
}
